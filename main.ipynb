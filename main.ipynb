{
 "cells": [
  {
   "attachments": {},
   "cell_type": "markdown",
   "metadata": {},
   "source": [
    "Dataset: https://www.kaggle.com/datasets/CooperUnion/anime-recommendations-database?select=rating.csv"
   ]
  },
  {
   "attachments": {},
   "cell_type": "markdown",
   "metadata": {},
   "source": [
    "## Librerias"
   ]
  },
  {
   "cell_type": "code",
   "execution_count": 29,
   "metadata": {},
   "outputs": [],
   "source": [
    "from sklearn.model_selection import train_test_split\n",
    "from sklearn.preprocessing import LabelEncoder\n",
    "from dataprep.eda import create_report\n",
    "import matplotlib.pyplot as plt\n",
    "import tensorflow as tf\n",
    "import pandas as pd\n",
    "import numpy as np"
   ]
  },
  {
   "attachments": {},
   "cell_type": "markdown",
   "metadata": {},
   "source": [
    "## Recolección de la data."
   ]
  },
  {
   "cell_type": "code",
   "execution_count": 2,
   "metadata": {},
   "outputs": [],
   "source": [
    "ratings = pd.read_csv(\"rating.csv\")\n",
    "items = pd.read_csv(\"anime.csv\")"
   ]
  },
  {
   "attachments": {},
   "cell_type": "markdown",
   "metadata": {},
   "source": [
    "## Preparación de la data/ preprocesamiento la data"
   ]
  },
  {
   "cell_type": "code",
   "execution_count": 3,
   "metadata": {},
   "outputs": [
    {
     "data": {
      "text/html": [
       "<div>\n",
       "<style scoped>\n",
       "    .dataframe tbody tr th:only-of-type {\n",
       "        vertical-align: middle;\n",
       "    }\n",
       "\n",
       "    .dataframe tbody tr th {\n",
       "        vertical-align: top;\n",
       "    }\n",
       "\n",
       "    .dataframe thead th {\n",
       "        text-align: right;\n",
       "    }\n",
       "</style>\n",
       "<table border=\"1\" class=\"dataframe\">\n",
       "  <thead>\n",
       "    <tr style=\"text-align: right;\">\n",
       "      <th></th>\n",
       "      <th>user_id</th>\n",
       "      <th>anime_id</th>\n",
       "      <th>rating</th>\n",
       "    </tr>\n",
       "  </thead>\n",
       "  <tbody>\n",
       "    <tr>\n",
       "      <th>0</th>\n",
       "      <td>1</td>\n",
       "      <td>20</td>\n",
       "      <td>-1</td>\n",
       "    </tr>\n",
       "    <tr>\n",
       "      <th>1</th>\n",
       "      <td>1</td>\n",
       "      <td>24</td>\n",
       "      <td>-1</td>\n",
       "    </tr>\n",
       "    <tr>\n",
       "      <th>2</th>\n",
       "      <td>1</td>\n",
       "      <td>79</td>\n",
       "      <td>-1</td>\n",
       "    </tr>\n",
       "    <tr>\n",
       "      <th>3</th>\n",
       "      <td>1</td>\n",
       "      <td>226</td>\n",
       "      <td>-1</td>\n",
       "    </tr>\n",
       "    <tr>\n",
       "      <th>4</th>\n",
       "      <td>1</td>\n",
       "      <td>241</td>\n",
       "      <td>-1</td>\n",
       "    </tr>\n",
       "    <tr>\n",
       "      <th>5</th>\n",
       "      <td>1</td>\n",
       "      <td>355</td>\n",
       "      <td>-1</td>\n",
       "    </tr>\n",
       "  </tbody>\n",
       "</table>\n",
       "</div>"
      ],
      "text/plain": [
       "   user_id  anime_id  rating\n",
       "0        1        20      -1\n",
       "1        1        24      -1\n",
       "2        1        79      -1\n",
       "3        1       226      -1\n",
       "4        1       241      -1\n",
       "5        1       355      -1"
      ]
     },
     "execution_count": 3,
     "metadata": {},
     "output_type": "execute_result"
    }
   ],
   "source": [
    "ratings.head(6)"
   ]
  },
  {
   "cell_type": "code",
   "execution_count": 4,
   "metadata": {},
   "outputs": [
    {
     "data": {
      "text/html": [
       "<div>\n",
       "<style scoped>\n",
       "    .dataframe tbody tr th:only-of-type {\n",
       "        vertical-align: middle;\n",
       "    }\n",
       "\n",
       "    .dataframe tbody tr th {\n",
       "        vertical-align: top;\n",
       "    }\n",
       "\n",
       "    .dataframe thead th {\n",
       "        text-align: right;\n",
       "    }\n",
       "</style>\n",
       "<table border=\"1\" class=\"dataframe\">\n",
       "  <thead>\n",
       "    <tr style=\"text-align: right;\">\n",
       "      <th></th>\n",
       "      <th>anime_id</th>\n",
       "      <th>name</th>\n",
       "      <th>genre</th>\n",
       "      <th>type</th>\n",
       "      <th>episodes</th>\n",
       "      <th>rating</th>\n",
       "      <th>members</th>\n",
       "    </tr>\n",
       "  </thead>\n",
       "  <tbody>\n",
       "    <tr>\n",
       "      <th>0</th>\n",
       "      <td>32281</td>\n",
       "      <td>Kimi no Na wa.</td>\n",
       "      <td>Drama, Romance, School, Supernatural</td>\n",
       "      <td>Movie</td>\n",
       "      <td>1</td>\n",
       "      <td>9.37</td>\n",
       "      <td>200630</td>\n",
       "    </tr>\n",
       "    <tr>\n",
       "      <th>1</th>\n",
       "      <td>5114</td>\n",
       "      <td>Fullmetal Alchemist: Brotherhood</td>\n",
       "      <td>Action, Adventure, Drama, Fantasy, Magic, Mili...</td>\n",
       "      <td>TV</td>\n",
       "      <td>64</td>\n",
       "      <td>9.26</td>\n",
       "      <td>793665</td>\n",
       "    </tr>\n",
       "    <tr>\n",
       "      <th>2</th>\n",
       "      <td>28977</td>\n",
       "      <td>Gintama°</td>\n",
       "      <td>Action, Comedy, Historical, Parody, Samurai, S...</td>\n",
       "      <td>TV</td>\n",
       "      <td>51</td>\n",
       "      <td>9.25</td>\n",
       "      <td>114262</td>\n",
       "    </tr>\n",
       "    <tr>\n",
       "      <th>3</th>\n",
       "      <td>9253</td>\n",
       "      <td>Steins;Gate</td>\n",
       "      <td>Sci-Fi, Thriller</td>\n",
       "      <td>TV</td>\n",
       "      <td>24</td>\n",
       "      <td>9.17</td>\n",
       "      <td>673572</td>\n",
       "    </tr>\n",
       "    <tr>\n",
       "      <th>4</th>\n",
       "      <td>9969</td>\n",
       "      <td>Gintama&amp;#039;</td>\n",
       "      <td>Action, Comedy, Historical, Parody, Samurai, S...</td>\n",
       "      <td>TV</td>\n",
       "      <td>51</td>\n",
       "      <td>9.16</td>\n",
       "      <td>151266</td>\n",
       "    </tr>\n",
       "    <tr>\n",
       "      <th>5</th>\n",
       "      <td>32935</td>\n",
       "      <td>Haikyuu!!: Karasuno Koukou VS Shiratorizawa Ga...</td>\n",
       "      <td>Comedy, Drama, School, Shounen, Sports</td>\n",
       "      <td>TV</td>\n",
       "      <td>10</td>\n",
       "      <td>9.15</td>\n",
       "      <td>93351</td>\n",
       "    </tr>\n",
       "  </tbody>\n",
       "</table>\n",
       "</div>"
      ],
      "text/plain": [
       "   anime_id                                               name  \\\n",
       "0     32281                                     Kimi no Na wa.   \n",
       "1      5114                   Fullmetal Alchemist: Brotherhood   \n",
       "2     28977                                           Gintama°   \n",
       "3      9253                                        Steins;Gate   \n",
       "4      9969                                      Gintama&#039;   \n",
       "5     32935  Haikyuu!!: Karasuno Koukou VS Shiratorizawa Ga...   \n",
       "\n",
       "                                               genre   type episodes  rating  \\\n",
       "0               Drama, Romance, School, Supernatural  Movie        1    9.37   \n",
       "1  Action, Adventure, Drama, Fantasy, Magic, Mili...     TV       64    9.26   \n",
       "2  Action, Comedy, Historical, Parody, Samurai, S...     TV       51    9.25   \n",
       "3                                   Sci-Fi, Thriller     TV       24    9.17   \n",
       "4  Action, Comedy, Historical, Parody, Samurai, S...     TV       51    9.16   \n",
       "5             Comedy, Drama, School, Shounen, Sports     TV       10    9.15   \n",
       "\n",
       "   members  \n",
       "0   200630  \n",
       "1   793665  \n",
       "2   114262  \n",
       "3   673572  \n",
       "4   151266  \n",
       "5    93351  "
      ]
     },
     "execution_count": 4,
     "metadata": {},
     "output_type": "execute_result"
    }
   ],
   "source": [
    "items.head(6)"
   ]
  },
  {
   "cell_type": "code",
   "execution_count": 5,
   "metadata": {},
   "outputs": [
    {
     "data": {
      "text/html": [
       "<div>\n",
       "<style scoped>\n",
       "    .dataframe tbody tr th:only-of-type {\n",
       "        vertical-align: middle;\n",
       "    }\n",
       "\n",
       "    .dataframe tbody tr th {\n",
       "        vertical-align: top;\n",
       "    }\n",
       "\n",
       "    .dataframe thead th {\n",
       "        text-align: right;\n",
       "    }\n",
       "</style>\n",
       "<table border=\"1\" class=\"dataframe\">\n",
       "  <thead>\n",
       "    <tr style=\"text-align: right;\">\n",
       "      <th></th>\n",
       "      <th>anime_id</th>\n",
       "      <th>name</th>\n",
       "    </tr>\n",
       "  </thead>\n",
       "  <tbody>\n",
       "    <tr>\n",
       "      <th>0</th>\n",
       "      <td>32281</td>\n",
       "      <td>Kimi no Na wa.</td>\n",
       "    </tr>\n",
       "    <tr>\n",
       "      <th>1</th>\n",
       "      <td>5114</td>\n",
       "      <td>Fullmetal Alchemist: Brotherhood</td>\n",
       "    </tr>\n",
       "    <tr>\n",
       "      <th>2</th>\n",
       "      <td>28977</td>\n",
       "      <td>Gintama°</td>\n",
       "    </tr>\n",
       "    <tr>\n",
       "      <th>3</th>\n",
       "      <td>9253</td>\n",
       "      <td>Steins;Gate</td>\n",
       "    </tr>\n",
       "    <tr>\n",
       "      <th>4</th>\n",
       "      <td>9969</td>\n",
       "      <td>Gintama&amp;#039;</td>\n",
       "    </tr>\n",
       "    <tr>\n",
       "      <th>5</th>\n",
       "      <td>32935</td>\n",
       "      <td>Haikyuu!!: Karasuno Koukou VS Shiratorizawa Ga...</td>\n",
       "    </tr>\n",
       "  </tbody>\n",
       "</table>\n",
       "</div>"
      ],
      "text/plain": [
       "   anime_id                                               name\n",
       "0     32281                                     Kimi no Na wa.\n",
       "1      5114                   Fullmetal Alchemist: Brotherhood\n",
       "2     28977                                           Gintama°\n",
       "3      9253                                        Steins;Gate\n",
       "4      9969                                      Gintama&#039;\n",
       "5     32935  Haikyuu!!: Karasuno Koukou VS Shiratorizawa Ga..."
      ]
     },
     "execution_count": 5,
     "metadata": {},
     "output_type": "execute_result"
    }
   ],
   "source": [
    "items_titles = items[[\"anime_id\", \"name\"]]\n",
    "items_titles.head(6)"
   ]
  },
  {
   "cell_type": "code",
   "execution_count": 6,
   "metadata": {},
   "outputs": [
    {
     "data": {
      "text/html": [
       "<div>\n",
       "<style scoped>\n",
       "    .dataframe tbody tr th:only-of-type {\n",
       "        vertical-align: middle;\n",
       "    }\n",
       "\n",
       "    .dataframe tbody tr th {\n",
       "        vertical-align: top;\n",
       "    }\n",
       "\n",
       "    .dataframe thead th {\n",
       "        text-align: right;\n",
       "    }\n",
       "</style>\n",
       "<table border=\"1\" class=\"dataframe\">\n",
       "  <thead>\n",
       "    <tr style=\"text-align: right;\">\n",
       "      <th></th>\n",
       "      <th>user_id</th>\n",
       "      <th>anime_id</th>\n",
       "      <th>rating</th>\n",
       "      <th>name</th>\n",
       "    </tr>\n",
       "  </thead>\n",
       "  <tbody>\n",
       "    <tr>\n",
       "      <th>0</th>\n",
       "      <td>1</td>\n",
       "      <td>20</td>\n",
       "      <td>-1</td>\n",
       "      <td>Naruto</td>\n",
       "    </tr>\n",
       "    <tr>\n",
       "      <th>1</th>\n",
       "      <td>3</td>\n",
       "      <td>20</td>\n",
       "      <td>8</td>\n",
       "      <td>Naruto</td>\n",
       "    </tr>\n",
       "    <tr>\n",
       "      <th>2</th>\n",
       "      <td>5</td>\n",
       "      <td>20</td>\n",
       "      <td>6</td>\n",
       "      <td>Naruto</td>\n",
       "    </tr>\n",
       "    <tr>\n",
       "      <th>3</th>\n",
       "      <td>6</td>\n",
       "      <td>20</td>\n",
       "      <td>-1</td>\n",
       "      <td>Naruto</td>\n",
       "    </tr>\n",
       "    <tr>\n",
       "      <th>4</th>\n",
       "      <td>10</td>\n",
       "      <td>20</td>\n",
       "      <td>-1</td>\n",
       "      <td>Naruto</td>\n",
       "    </tr>\n",
       "    <tr>\n",
       "      <th>5</th>\n",
       "      <td>21</td>\n",
       "      <td>20</td>\n",
       "      <td>8</td>\n",
       "      <td>Naruto</td>\n",
       "    </tr>\n",
       "  </tbody>\n",
       "</table>\n",
       "</div>"
      ],
      "text/plain": [
       "   user_id  anime_id  rating    name\n",
       "0        1        20      -1  Naruto\n",
       "1        3        20       8  Naruto\n",
       "2        5        20       6  Naruto\n",
       "3        6        20      -1  Naruto\n",
       "4       10        20      -1  Naruto\n",
       "5       21        20       8  Naruto"
      ]
     },
     "execution_count": 6,
     "metadata": {},
     "output_type": "execute_result"
    }
   ],
   "source": [
    "items_ratings = ratings.merge(items_titles, on=\"anime_id\")\n",
    "items_ratings.head(6)"
   ]
  },
  {
   "cell_type": "code",
   "execution_count": 7,
   "metadata": {},
   "outputs": [],
   "source": [
    "items_ratings.rename(columns={'anime_id': 'item_id'}, inplace = True)"
   ]
  },
  {
   "cell_type": "code",
   "execution_count": 8,
   "metadata": {},
   "outputs": [
    {
     "data": {
      "text/html": [
       "<div>\n",
       "<style scoped>\n",
       "    .dataframe tbody tr th:only-of-type {\n",
       "        vertical-align: middle;\n",
       "    }\n",
       "\n",
       "    .dataframe tbody tr th {\n",
       "        vertical-align: top;\n",
       "    }\n",
       "\n",
       "    .dataframe thead th {\n",
       "        text-align: right;\n",
       "    }\n",
       "</style>\n",
       "<table border=\"1\" class=\"dataframe\">\n",
       "  <thead>\n",
       "    <tr style=\"text-align: right;\">\n",
       "      <th></th>\n",
       "      <th>anime_id</th>\n",
       "      <th>name</th>\n",
       "    </tr>\n",
       "  </thead>\n",
       "  <tbody>\n",
       "    <tr>\n",
       "      <th>841</th>\n",
       "      <td>20</td>\n",
       "      <td>Naruto</td>\n",
       "    </tr>\n",
       "  </tbody>\n",
       "</table>\n",
       "</div>"
      ],
      "text/plain": [
       "     anime_id    name\n",
       "841        20  Naruto"
      ]
     },
     "execution_count": 8,
     "metadata": {},
     "output_type": "execute_result"
    }
   ],
   "source": [
    "items_titles[items_titles[\"name\"] == \"Naruto\"]"
   ]
  },
  {
   "cell_type": "code",
   "execution_count": 9,
   "metadata": {},
   "outputs": [
    {
     "name": "stdout",
     "output_type": "stream",
     "text": [
      "<class 'pandas.core.frame.DataFrame'>\n",
      "Int64Index: 7813727 entries, 0 to 7813726\n",
      "Data columns (total 4 columns):\n",
      " #   Column   Dtype \n",
      "---  ------   ----- \n",
      " 0   user_id  int64 \n",
      " 1   item_id  int64 \n",
      " 2   rating   int64 \n",
      " 3   name     object\n",
      "dtypes: int64(3), object(1)\n",
      "memory usage: 298.1+ MB\n"
     ]
    }
   ],
   "source": [
    "items_ratings.info()"
   ]
  },
  {
   "cell_type": "code",
   "execution_count": 10,
   "metadata": {},
   "outputs": [
    {
     "data": {
      "text/plain": [
       "user_id    False\n",
       "item_id    False\n",
       "rating     False\n",
       "name       False\n",
       "dtype: bool"
      ]
     },
     "execution_count": 10,
     "metadata": {},
     "output_type": "execute_result"
    }
   ],
   "source": [
    "items_ratings.isna().any()"
   ]
  },
  {
   "cell_type": "code",
   "execution_count": 11,
   "metadata": {},
   "outputs": [],
   "source": [
    "items_ratings.loc[items_ratings['rating'] == -1, 'rating'] = 0"
   ]
  },
  {
   "cell_type": "code",
   "execution_count": 12,
   "metadata": {},
   "outputs": [],
   "source": [
    "items_ratings = items_ratings.sample(16000)"
   ]
  },
  {
   "attachments": {},
   "cell_type": "markdown",
   "metadata": {},
   "source": [
    "## Análisis descriptivo de la data (EDA)"
   ]
  },
  {
   "cell_type": "code",
   "execution_count": 13,
   "metadata": {},
   "outputs": [
    {
     "data": {
      "application/vnd.jupyter.widget-view+json": {
       "model_id": "c7106bc038074616bca6466d5ea0203d",
       "version_major": 2,
       "version_minor": 0
      },
      "text/plain": [
       "  0%|          | 0/694 [00:00<?, ?it/s]"
      ]
     },
     "metadata": {},
     "output_type": "display_data"
    },
    {
     "name": "stderr",
     "output_type": "stream",
     "text": [
      "c:\\Users\\Addison\\Documents\\GitHub\\Anime-System-Recomendations\\venv\\lib\\site-packages\\dask\\core.py:119: RuntimeWarning: invalid value encountered in divide\n",
      "  return func(*(_execute_task(a, cache) for a in args))\n",
      "c:\\Users\\Addison\\Documents\\GitHub\\Anime-System-Recomendations\\venv\\lib\\site-packages\\dataprep\\eda\\distribution\\render.py:274: FutureWarning: The frame.append method is deprecated and will be removed from pandas in a future version. Use pandas.concat instead.\n",
      "  df = df.append(pd.DataFrame({col: [nrows - npresent]}, index=[\"Others\"]))\n"
     ]
    },
    {
     "name": "stdout",
     "output_type": "stream",
     "text": [
      "Report has been saved to Reporte.html!\n"
     ]
    }
   ],
   "source": [
    "report = create_report(items_ratings)\n",
    "report.save(\"Reporte\")"
   ]
  },
  {
   "cell_type": "code",
   "execution_count": 14,
   "metadata": {},
   "outputs": [
    {
     "data": {
      "image/png": "[encoded data removed]",
      "text/plain": [
       "<Figure size 640x480 with 1 Axes>"
      ]
     },
     "metadata": {},
     "output_type": "display_data"
    }
   ],
   "source": [
    "plt.hist(items_ratings['rating'], color=\"deeppink\", edgecolor=\"white\")\n",
    "plt.show()"
   ]
  },
  {
   "attachments": {},
   "cell_type": "markdown",
   "metadata": {},
   "source": [
    "## Entrenamiento del modelo."
   ]
  },
  {
   "cell_type": "code",
   "execution_count": 15,
   "metadata": {},
   "outputs": [],
   "source": [
    "encoder = LabelEncoder()"
   ]
  },
  {
   "cell_type": "code",
   "execution_count": 16,
   "metadata": {},
   "outputs": [],
   "source": [
    "encoder.fit(items_ratings['user_id'])\n",
    "items_ratings.loc[:, 'user_id'] = sorted(encoder.transform(items_ratings['user_id']))\n",
    "\n",
    "encoder.fit(items_ratings['item_id'])\n",
    "items_ratings.loc[:, 'item_id'] = encoder.transform(items_ratings['item_id'])"
   ]
  },
  {
   "cell_type": "code",
   "execution_count": 17,
   "metadata": {},
   "outputs": [],
   "source": [
    "df_train, df_val = train_test_split(items_ratings, test_size=0.2, random_state=42)"
   ]
  },
  {
   "cell_type": "code",
   "execution_count": 18,
   "metadata": {},
   "outputs": [],
   "source": [
    "n_users = len(items_ratings.user_id.unique())\n",
    "n_items = len(items_ratings.item_id.unique())\n",
    "\n",
    "train_matrix = np.zeros((n_users, n_items))\n",
    "\n",
    "for row in df_train.itertuples():\n",
    "    train_matrix[row[1]-1, row[2]-1] = row[3]"
   ]
  },
  {
   "cell_type": "code",
   "execution_count": 19,
   "metadata": {},
   "outputs": [],
   "source": [
    "input_users = tf.keras.layers.Input(shape=[1])\n",
    "embedding_users = tf.keras.layers.Embedding(n_users, 100)(input_users)\n",
    "flatten_users = tf.keras.layers.Flatten()(embedding_users)\n",
    "\n",
    "input_items = tf.keras.layers.Input(shape=[1])\n",
    "embedding_items = tf.keras.layers.Embedding(n_items, 100)(input_items)\n",
    "flatten_items = tf.keras.layers.Flatten()(embedding_items)"
   ]
  },
  {
   "cell_type": "code",
   "execution_count": 20,
   "metadata": {},
   "outputs": [],
   "source": [
    "concat = tf.keras.layers.Concatenate()([flatten_users, flatten_items])\n",
    "\n",
    "dense1 = tf.keras.layers.Dense(128, activation='relu')(concat)\n",
    "dropout1 = tf.keras.layers.Dropout(0.2)(dense1)\n",
    "\n",
    "dense2 = tf.keras.layers.Dense(64, activation='relu')(dropout1)\n",
    "dropout2 = tf.keras.layers.Dropout(0.2)(dense2)"
   ]
  },
  {
   "cell_type": "code",
   "execution_count": 21,
   "metadata": {},
   "outputs": [],
   "source": [
    "output = tf.keras.layers.Dense(1)(dropout2)\n",
    "\n",
    "model = tf.keras.Model(inputs=[input_users, input_items], outputs=output)\n",
    "model.compile(loss='mse', optimizer='adam')"
   ]
  },
  {
   "cell_type": "code",
   "execution_count": 22,
   "metadata": {},
   "outputs": [
    {
     "name": "stdout",
     "output_type": "stream",
     "text": [
      "Epoch 1/10\n",
      "147/147 [==============================] - 4s 20ms/step - loss: 21.7819 - val_loss: 11.4454\n",
      "Epoch 2/10\n",
      "147/147 [==============================] - 3s 19ms/step - loss: 8.1379 - val_loss: 13.4078\n",
      "Epoch 3/10\n",
      "147/147 [==============================] - 3s 19ms/step - loss: 4.6127 - val_loss: 14.2016\n",
      "Epoch 4/10\n",
      "147/147 [==============================] - 3s 20ms/step - loss: 3.3701 - val_loss: 14.6783\n",
      "Epoch 5/10\n",
      "147/147 [==============================] - 3s 20ms/step - loss: 2.6754 - val_loss: 14.8529\n",
      "Epoch 6/10\n",
      "147/147 [==============================] - 3s 19ms/step - loss: 2.3020 - val_loss: 14.9138\n",
      "Epoch 7/10\n",
      "147/147 [==============================] - 3s 20ms/step - loss: 1.9535 - val_loss: 15.5340\n",
      "Epoch 8/10\n",
      "147/147 [==============================] - 3s 19ms/step - loss: 1.7690 - val_loss: 15.5821\n",
      "Epoch 9/10\n",
      "147/147 [==============================] - 3s 19ms/step - loss: 1.5781 - val_loss: 16.0712\n",
      "Epoch 10/10\n",
      "147/147 [==============================] - 3s 20ms/step - loss: 1.4666 - val_loss: 15.8569\n"
     ]
    },
    {
     "data": {
      "text/plain": [
       "<keras.callbacks.History at 0x1bf8017f910>"
      ]
     },
     "execution_count": 22,
     "metadata": {},
     "output_type": "execute_result"
    }
   ],
   "source": [
    "model.fit([df_train.user_id, df_train.item_id], df_train.rating, epochs=10, verbose=1, validation_split=0.2, batch_size=70)"
   ]
  },
  {
   "cell_type": "code",
   "execution_count": 23,
   "metadata": {},
   "outputs": [
    {
     "name": "stdout",
     "output_type": "stream",
     "text": [
      "Epoch 1/10\n",
      "147/147 [==============================] - 3s 20ms/step - loss: 1.3191 - val_loss: 15.9600\n",
      "Epoch 2/10\n",
      "147/147 [==============================] - 3s 19ms/step - loss: 1.2652 - val_loss: 16.2438\n",
      "Epoch 3/10\n",
      "147/147 [==============================] - 3s 19ms/step - loss: 1.1932 - val_loss: 16.0938\n",
      "Epoch 4/10\n",
      "147/147 [==============================] - 3s 20ms/step - loss: 1.1779 - val_loss: 16.4240\n",
      "Epoch 5/10\n",
      "147/147 [==============================] - 3s 19ms/step - loss: 1.0970 - val_loss: 16.5616\n",
      "Epoch 6/10\n",
      "147/147 [==============================] - 3s 19ms/step - loss: 1.0281 - val_loss: 16.4369\n",
      "Epoch 7/10\n",
      "147/147 [==============================] - 3s 19ms/step - loss: 1.0148 - val_loss: 16.2770\n",
      "Epoch 8/10\n",
      "147/147 [==============================] - 3s 20ms/step - loss: 1.0075 - val_loss: 16.0722\n",
      "Epoch 9/10\n",
      "147/147 [==============================] - 3s 19ms/step - loss: 0.9658 - val_loss: 16.1666\n",
      "Epoch 10/10\n",
      "147/147 [==============================] - 3s 19ms/step - loss: 0.9090 - val_loss: 16.5758\n"
     ]
    },
    {
     "data": {
      "text/plain": [
       "<keras.callbacks.History at 0x1bfa9d7b310>"
      ]
     },
     "execution_count": 23,
     "metadata": {},
     "output_type": "execute_result"
    }
   ],
   "source": [
    "model.fit([df_train.user_id, df_train.item_id], df_train.rating, epochs=10, verbose=1, validation_split=0.2, batch_size=70)"
   ]
  },
  {
   "cell_type": "code",
   "execution_count": 24,
   "metadata": {},
   "outputs": [
    {
     "name": "stdout",
     "output_type": "stream",
     "text": [
      "Epoch 1/10\n",
      "147/147 [==============================] - 3s 20ms/step - loss: 0.9447 - val_loss: 16.2858\n",
      "Epoch 2/10\n",
      "147/147 [==============================] - 3s 20ms/step - loss: 0.8780 - val_loss: 16.0329\n",
      "Epoch 3/10\n",
      "147/147 [==============================] - 3s 19ms/step - loss: 0.8570 - val_loss: 16.2854\n",
      "Epoch 4/10\n",
      "147/147 [==============================] - 3s 19ms/step - loss: 0.8409 - val_loss: 16.2366\n",
      "Epoch 5/10\n",
      "147/147 [==============================] - 3s 19ms/step - loss: 0.7739 - val_loss: 16.4258\n",
      "Epoch 6/10\n",
      "147/147 [==============================] - 3s 19ms/step - loss: 0.7588 - val_loss: 16.3668\n",
      "Epoch 7/10\n",
      "147/147 [==============================] - 3s 19ms/step - loss: 0.7595 - val_loss: 16.1507\n",
      "Epoch 8/10\n",
      "147/147 [==============================] - 3s 20ms/step - loss: 0.7210 - val_loss: 16.1696\n",
      "Epoch 9/10\n",
      "147/147 [==============================] - 3s 19ms/step - loss: 0.7022 - val_loss: 16.1474\n",
      "Epoch 10/10\n",
      "147/147 [==============================] - 3s 19ms/step - loss: 0.6905 - val_loss: 16.4732\n"
     ]
    },
    {
     "data": {
      "text/plain": [
       "<keras.callbacks.History at 0x1bfa9df2a10>"
      ]
     },
     "execution_count": 24,
     "metadata": {},
     "output_type": "execute_result"
    }
   ],
   "source": [
    "model.fit([df_train.user_id, df_train.item_id], df_train.rating, epochs=10, verbose=1, validation_split=0.2, batch_size=70)"
   ]
  },
  {
   "cell_type": "code",
   "execution_count": 25,
   "metadata": {},
   "outputs": [
    {
     "name": "stdout",
     "output_type": "stream",
     "text": [
      "100/100 [==============================] - 0s 1ms/step - loss: 15.7229\n",
      "Test loss: 15.722870826721191\n"
     ]
    }
   ],
   "source": [
    "test_loss = model.evaluate([df_val.user_id, df_val.item_id], df_val.rating)\n",
    "print('Test loss:', test_loss)"
   ]
  },
  {
   "cell_type": "code",
   "execution_count": 26,
   "metadata": {},
   "outputs": [],
   "source": [
    "def recommend_items(user_id, model, n=2):\n",
    "    #Se obtiene items que ya ha visto el usuario\n",
    "    seen_movies = items_ratings[items_ratings['user_id'] == user_id]['item_id'].tolist()\n",
    "    \n",
    "    #Se obtiene items que el usuario aún no ha visto\n",
    "    item_ids = list(set(items_ratings['item_id']) - set(seen_movies))\n",
    "    \n",
    "    #Se predicen las puntuaciones para las items no vistas\n",
    "    ratings_pred = model.predict([np.array([user_id]*len(item_ids)), np.array(item_ids)])\n",
    "    ratings_pred = np.array([rating[0] for rating in ratings_pred])\n",
    "    \n",
    "    #Obtener los mejores n items recomendadas\n",
    "    top_item_ids = (-ratings_pred).argsort()[:n]\n",
    "    top_item_ids = [item_ids[i] for i in top_item_ids]\n",
    "    top_item_ids += [0]*(n - len(top_item_ids))\n",
    "    top_ratings_pred = ratings_pred[top_item_ids]\n",
    "\n",
    "    #Se crea un DataFrame con los mejores n items\n",
    "    items_pred = pd.DataFrame(columns=['anime_id', 'name', 'genre', 'type', 'episodes', 'rating', 'members'])\n",
    "\n",
    "    i = 0\n",
    "    for ids in top_item_ids:\n",
    "        items_pred.loc[i] = items.iloc[ids]\n",
    "        i += 1\n",
    "\n",
    "    items_pred['predicted_rating'] = top_ratings_pred\n",
    "    \n",
    "    return items_pred"
   ]
  },
  {
   "attachments": {},
   "cell_type": "markdown",
   "metadata": {},
   "source": [
    "## Recomendaciones"
   ]
  },
  {
   "cell_type": "code",
   "execution_count": 27,
   "metadata": {},
   "outputs": [
    {
     "name": "stdout",
     "output_type": "stream",
     "text": [
      "104/104 [==============================] - 0s 1ms/step\n"
     ]
    },
    {
     "data": {
      "text/html": [
       "<div>\n",
       "<style scoped>\n",
       "    .dataframe tbody tr th:only-of-type {\n",
       "        vertical-align: middle;\n",
       "    }\n",
       "\n",
       "    .dataframe tbody tr th {\n",
       "        vertical-align: top;\n",
       "    }\n",
       "\n",
       "    .dataframe thead th {\n",
       "        text-align: right;\n",
       "    }\n",
       "</style>\n",
       "<table border=\"1\" class=\"dataframe\">\n",
       "  <thead>\n",
       "    <tr style=\"text-align: right;\">\n",
       "      <th></th>\n",
       "      <th>anime_id</th>\n",
       "      <th>name</th>\n",
       "      <th>genre</th>\n",
       "      <th>type</th>\n",
       "      <th>episodes</th>\n",
       "      <th>rating</th>\n",
       "      <th>members</th>\n",
       "      <th>predicted_rating</th>\n",
       "    </tr>\n",
       "  </thead>\n",
       "  <tbody>\n",
       "    <tr>\n",
       "      <th>0</th>\n",
       "      <td>6324</td>\n",
       "      <td>Omamori Himari</td>\n",
       "      <td>Action, Comedy, Demons, Ecchi, Harem, Romance,...</td>\n",
       "      <td>TV</td>\n",
       "      <td>12</td>\n",
       "      <td>7.19</td>\n",
       "      <td>119572</td>\n",
       "      <td>-0.018156</td>\n",
       "    </tr>\n",
       "    <tr>\n",
       "      <th>1</th>\n",
       "      <td>4186</td>\n",
       "      <td>Chrome Shelled Regios</td>\n",
       "      <td>Action, Adventure, Fantasy, School, Sci-Fi</td>\n",
       "      <td>TV</td>\n",
       "      <td>24</td>\n",
       "      <td>7.57</td>\n",
       "      <td>103615</td>\n",
       "      <td>6.951766</td>\n",
       "    </tr>\n",
       "    <tr>\n",
       "      <th>2</th>\n",
       "      <td>1434</td>\n",
       "      <td>Lupin III: Harimao no Zaihou wo Oe!!</td>\n",
       "      <td>Action, Adventure, Comedy, Shounen</td>\n",
       "      <td>Special</td>\n",
       "      <td>1</td>\n",
       "      <td>7.16</td>\n",
       "      <td>3057</td>\n",
       "      <td>0.009716</td>\n",
       "    </tr>\n",
       "  </tbody>\n",
       "</table>\n",
       "</div>"
      ],
      "text/plain": [
       "  anime_id                                  name  \\\n",
       "0     6324                        Omamori Himari   \n",
       "1     4186                 Chrome Shelled Regios   \n",
       "2     1434  Lupin III: Harimao no Zaihou wo Oe!!   \n",
       "\n",
       "                                               genre     type episodes rating  \\\n",
       "0  Action, Comedy, Demons, Ecchi, Harem, Romance,...       TV       12   7.19   \n",
       "1         Action, Adventure, Fantasy, School, Sci-Fi       TV       24   7.57   \n",
       "2                 Action, Adventure, Comedy, Shounen  Special        1   7.16   \n",
       "\n",
       "  members  predicted_rating  \n",
       "0  119572         -0.018156  \n",
       "1  103615          6.951766  \n",
       "2    3057          0.009716  "
      ]
     },
     "execution_count": 27,
     "metadata": {},
     "output_type": "execute_result"
    }
   ],
   "source": [
    "user_id = 16\n",
    "recommendations = recommend_items(user_id, model, n=3)\n",
    "recommendations"
   ]
  },
  {
   "cell_type": "code",
   "execution_count": 28,
   "metadata": {},
   "outputs": [
    {
     "name": "stdout",
     "output_type": "stream",
     "text": [
      "104/104 [==============================] - 0s 1ms/step\n"
     ]
    },
    {
     "data": {
      "text/html": [
       "<div>\n",
       "<style scoped>\n",
       "    .dataframe tbody tr th:only-of-type {\n",
       "        vertical-align: middle;\n",
       "    }\n",
       "\n",
       "    .dataframe tbody tr th {\n",
       "        vertical-align: top;\n",
       "    }\n",
       "\n",
       "    .dataframe thead th {\n",
       "        text-align: right;\n",
       "    }\n",
       "</style>\n",
       "<table border=\"1\" class=\"dataframe\">\n",
       "  <thead>\n",
       "    <tr style=\"text-align: right;\">\n",
       "      <th></th>\n",
       "      <th>anime_id</th>\n",
       "      <th>name</th>\n",
       "      <th>genre</th>\n",
       "      <th>type</th>\n",
       "      <th>episodes</th>\n",
       "      <th>rating</th>\n",
       "      <th>members</th>\n",
       "      <th>predicted_rating</th>\n",
       "    </tr>\n",
       "  </thead>\n",
       "  <tbody>\n",
       "    <tr>\n",
       "      <th>0</th>\n",
       "      <td>6024</td>\n",
       "      <td>Chi&amp;#039;s Sweet Home: Atarashii Ouchi</td>\n",
       "      <td>Comedy, Kids, Slice of Life</td>\n",
       "      <td>TV</td>\n",
       "      <td>104</td>\n",
       "      <td>7.9</td>\n",
       "      <td>16670</td>\n",
       "      <td>9.494140</td>\n",
       "    </tr>\n",
       "    <tr>\n",
       "      <th>1</th>\n",
       "      <td>6324</td>\n",
       "      <td>Omamori Himari</td>\n",
       "      <td>Action, Comedy, Demons, Ecchi, Harem, Romance,...</td>\n",
       "      <td>TV</td>\n",
       "      <td>12</td>\n",
       "      <td>7.19</td>\n",
       "      <td>119572</td>\n",
       "      <td>6.650553</td>\n",
       "    </tr>\n",
       "    <tr>\n",
       "      <th>2</th>\n",
       "      <td>3483</td>\n",
       "      <td>Maison Ikkoku: Utsuriyuku Kisetsu no Naka de</td>\n",
       "      <td>Comedy, Drama, Romance</td>\n",
       "      <td>OVA</td>\n",
       "      <td>1</td>\n",
       "      <td>7.15</td>\n",
       "      <td>1458</td>\n",
       "      <td>3.755569</td>\n",
       "    </tr>\n",
       "  </tbody>\n",
       "</table>\n",
       "</div>"
      ],
      "text/plain": [
       "  anime_id                                          name  \\\n",
       "0     6024        Chi&#039;s Sweet Home: Atarashii Ouchi   \n",
       "1     6324                                Omamori Himari   \n",
       "2     3483  Maison Ikkoku: Utsuriyuku Kisetsu no Naka de   \n",
       "\n",
       "                                               genre type episodes rating  \\\n",
       "0                        Comedy, Kids, Slice of Life   TV      104    7.9   \n",
       "1  Action, Comedy, Demons, Ecchi, Harem, Romance,...   TV       12   7.19   \n",
       "2                             Comedy, Drama, Romance  OVA        1   7.15   \n",
       "\n",
       "  members  predicted_rating  \n",
       "0   16670          9.494140  \n",
       "1  119572          6.650553  \n",
       "2    1458          3.755569  "
      ]
     },
     "execution_count": 28,
     "metadata": {},
     "output_type": "execute_result"
    }
   ],
   "source": [
    "user_id = 69\n",
    "recommendations = recommend_items(user_id, model, n=3)\n",
    "recommendations"
   ]
  }
 ],
 "metadata": {
  "kernelspec": {
   "display_name": "venv",
   "language": "python",
   "name": "python3"
  },
  "language_info": {
   "codemirror_mode": {
    "name": "ipython",
    "version": 3
   },
   "file_extension": ".py",
   "mimetype": "text/x-python",
   "name": "python",
   "nbconvert_exporter": "python",
   "pygments_lexer": "ipython3",
   "version": "3.10.9"
  },
  "orig_nbformat": 4
 },
 "nbformat": 4,
 "nbformat_minor": 2
}
