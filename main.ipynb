{
 "cells": [
  {
   "attachments": {},
   "cell_type": "markdown",
   "metadata": {},
   "source": [
    "Dataset: https://www.kaggle.com/datasets/CooperUnion/anime-recommendations-database?select=rating.csv"
   ]
  },
  {
   "attachments": {},
   "cell_type": "markdown",
   "metadata": {},
   "source": [
    "## Librerias"
   ]
  },
  {
   "cell_type": "code",
   "execution_count": 1,
   "metadata": {},
   "outputs": [],
   "source": [
    "from sklearn.model_selection import train_test_split\n",
    "from sklearn.preprocessing import LabelEncoder\n",
    "import tensorflow as tf\n",
    "import pandas as pd\n",
    "import numpy as np"
   ]
  },
  {
   "attachments": {},
   "cell_type": "markdown",
   "metadata": {},
   "source": [
    "## Recolección de la data."
   ]
  },
  {
   "cell_type": "code",
   "execution_count": 2,
   "metadata": {},
   "outputs": [],
   "source": [
    "ratings = pd.read_csv(\"rating.csv\")\n",
    "items = pd.read_csv(\"anime.csv\")"
   ]
  },
  {
   "attachments": {},
   "cell_type": "markdown",
   "metadata": {},
   "source": [
    "## Preparación de la data/ preprocesamiento la data"
   ]
  },
  {
   "cell_type": "code",
   "execution_count": 3,
   "metadata": {},
   "outputs": [
    {
     "data": {
      "text/html": [
       "<div>\n",
       "<style scoped>\n",
       "    .dataframe tbody tr th:only-of-type {\n",
       "        vertical-align: middle;\n",
       "    }\n",
       "\n",
       "    .dataframe tbody tr th {\n",
       "        vertical-align: top;\n",
       "    }\n",
       "\n",
       "    .dataframe thead th {\n",
       "        text-align: right;\n",
       "    }\n",
       "</style>\n",
       "<table border=\"1\" class=\"dataframe\">\n",
       "  <thead>\n",
       "    <tr style=\"text-align: right;\">\n",
       "      <th></th>\n",
       "      <th>user_id</th>\n",
       "      <th>anime_id</th>\n",
       "      <th>rating</th>\n",
       "    </tr>\n",
       "  </thead>\n",
       "  <tbody>\n",
       "    <tr>\n",
       "      <th>0</th>\n",
       "      <td>1</td>\n",
       "      <td>20</td>\n",
       "      <td>-1</td>\n",
       "    </tr>\n",
       "    <tr>\n",
       "      <th>1</th>\n",
       "      <td>1</td>\n",
       "      <td>24</td>\n",
       "      <td>-1</td>\n",
       "    </tr>\n",
       "    <tr>\n",
       "      <th>2</th>\n",
       "      <td>1</td>\n",
       "      <td>79</td>\n",
       "      <td>-1</td>\n",
       "    </tr>\n",
       "    <tr>\n",
       "      <th>3</th>\n",
       "      <td>1</td>\n",
       "      <td>226</td>\n",
       "      <td>-1</td>\n",
       "    </tr>\n",
       "    <tr>\n",
       "      <th>4</th>\n",
       "      <td>1</td>\n",
       "      <td>241</td>\n",
       "      <td>-1</td>\n",
       "    </tr>\n",
       "    <tr>\n",
       "      <th>5</th>\n",
       "      <td>1</td>\n",
       "      <td>355</td>\n",
       "      <td>-1</td>\n",
       "    </tr>\n",
       "  </tbody>\n",
       "</table>\n",
       "</div>"
      ],
      "text/plain": [
       "   user_id  anime_id  rating\n",
       "0        1        20      -1\n",
       "1        1        24      -1\n",
       "2        1        79      -1\n",
       "3        1       226      -1\n",
       "4        1       241      -1\n",
       "5        1       355      -1"
      ]
     },
     "execution_count": 3,
     "metadata": {},
     "output_type": "execute_result"
    }
   ],
   "source": [
    "ratings.head(6)"
   ]
  },
  {
   "cell_type": "code",
   "execution_count": 4,
   "metadata": {},
   "outputs": [
    {
     "data": {
      "text/html": [
       "<div>\n",
       "<style scoped>\n",
       "    .dataframe tbody tr th:only-of-type {\n",
       "        vertical-align: middle;\n",
       "    }\n",
       "\n",
       "    .dataframe tbody tr th {\n",
       "        vertical-align: top;\n",
       "    }\n",
       "\n",
       "    .dataframe thead th {\n",
       "        text-align: right;\n",
       "    }\n",
       "</style>\n",
       "<table border=\"1\" class=\"dataframe\">\n",
       "  <thead>\n",
       "    <tr style=\"text-align: right;\">\n",
       "      <th></th>\n",
       "      <th>anime_id</th>\n",
       "      <th>name</th>\n",
       "      <th>genre</th>\n",
       "      <th>type</th>\n",
       "      <th>episodes</th>\n",
       "      <th>rating</th>\n",
       "      <th>members</th>\n",
       "    </tr>\n",
       "  </thead>\n",
       "  <tbody>\n",
       "    <tr>\n",
       "      <th>0</th>\n",
       "      <td>32281</td>\n",
       "      <td>Kimi no Na wa.</td>\n",
       "      <td>Drama, Romance, School, Supernatural</td>\n",
       "      <td>Movie</td>\n",
       "      <td>1</td>\n",
       "      <td>9.37</td>\n",
       "      <td>200630</td>\n",
       "    </tr>\n",
       "    <tr>\n",
       "      <th>1</th>\n",
       "      <td>5114</td>\n",
       "      <td>Fullmetal Alchemist: Brotherhood</td>\n",
       "      <td>Action, Adventure, Drama, Fantasy, Magic, Mili...</td>\n",
       "      <td>TV</td>\n",
       "      <td>64</td>\n",
       "      <td>9.26</td>\n",
       "      <td>793665</td>\n",
       "    </tr>\n",
       "    <tr>\n",
       "      <th>2</th>\n",
       "      <td>28977</td>\n",
       "      <td>Gintama°</td>\n",
       "      <td>Action, Comedy, Historical, Parody, Samurai, S...</td>\n",
       "      <td>TV</td>\n",
       "      <td>51</td>\n",
       "      <td>9.25</td>\n",
       "      <td>114262</td>\n",
       "    </tr>\n",
       "    <tr>\n",
       "      <th>3</th>\n",
       "      <td>9253</td>\n",
       "      <td>Steins;Gate</td>\n",
       "      <td>Sci-Fi, Thriller</td>\n",
       "      <td>TV</td>\n",
       "      <td>24</td>\n",
       "      <td>9.17</td>\n",
       "      <td>673572</td>\n",
       "    </tr>\n",
       "    <tr>\n",
       "      <th>4</th>\n",
       "      <td>9969</td>\n",
       "      <td>Gintama&amp;#039;</td>\n",
       "      <td>Action, Comedy, Historical, Parody, Samurai, S...</td>\n",
       "      <td>TV</td>\n",
       "      <td>51</td>\n",
       "      <td>9.16</td>\n",
       "      <td>151266</td>\n",
       "    </tr>\n",
       "    <tr>\n",
       "      <th>5</th>\n",
       "      <td>32935</td>\n",
       "      <td>Haikyuu!!: Karasuno Koukou VS Shiratorizawa Ga...</td>\n",
       "      <td>Comedy, Drama, School, Shounen, Sports</td>\n",
       "      <td>TV</td>\n",
       "      <td>10</td>\n",
       "      <td>9.15</td>\n",
       "      <td>93351</td>\n",
       "    </tr>\n",
       "  </tbody>\n",
       "</table>\n",
       "</div>"
      ],
      "text/plain": [
       "   anime_id                                               name   \n",
       "0     32281                                     Kimi no Na wa.  \\\n",
       "1      5114                   Fullmetal Alchemist: Brotherhood   \n",
       "2     28977                                           Gintama°   \n",
       "3      9253                                        Steins;Gate   \n",
       "4      9969                                      Gintama&#039;   \n",
       "5     32935  Haikyuu!!: Karasuno Koukou VS Shiratorizawa Ga...   \n",
       "\n",
       "                                               genre   type episodes  rating   \n",
       "0               Drama, Romance, School, Supernatural  Movie        1    9.37  \\\n",
       "1  Action, Adventure, Drama, Fantasy, Magic, Mili...     TV       64    9.26   \n",
       "2  Action, Comedy, Historical, Parody, Samurai, S...     TV       51    9.25   \n",
       "3                                   Sci-Fi, Thriller     TV       24    9.17   \n",
       "4  Action, Comedy, Historical, Parody, Samurai, S...     TV       51    9.16   \n",
       "5             Comedy, Drama, School, Shounen, Sports     TV       10    9.15   \n",
       "\n",
       "   members  \n",
       "0   200630  \n",
       "1   793665  \n",
       "2   114262  \n",
       "3   673572  \n",
       "4   151266  \n",
       "5    93351  "
      ]
     },
     "execution_count": 4,
     "metadata": {},
     "output_type": "execute_result"
    }
   ],
   "source": [
    "items.head(6)"
   ]
  },
  {
   "cell_type": "code",
   "execution_count": 5,
   "metadata": {},
   "outputs": [
    {
     "data": {
      "text/html": [
       "<div>\n",
       "<style scoped>\n",
       "    .dataframe tbody tr th:only-of-type {\n",
       "        vertical-align: middle;\n",
       "    }\n",
       "\n",
       "    .dataframe tbody tr th {\n",
       "        vertical-align: top;\n",
       "    }\n",
       "\n",
       "    .dataframe thead th {\n",
       "        text-align: right;\n",
       "    }\n",
       "</style>\n",
       "<table border=\"1\" class=\"dataframe\">\n",
       "  <thead>\n",
       "    <tr style=\"text-align: right;\">\n",
       "      <th></th>\n",
       "      <th>anime_id</th>\n",
       "      <th>name</th>\n",
       "    </tr>\n",
       "  </thead>\n",
       "  <tbody>\n",
       "    <tr>\n",
       "      <th>0</th>\n",
       "      <td>32281</td>\n",
       "      <td>Kimi no Na wa.</td>\n",
       "    </tr>\n",
       "    <tr>\n",
       "      <th>1</th>\n",
       "      <td>5114</td>\n",
       "      <td>Fullmetal Alchemist: Brotherhood</td>\n",
       "    </tr>\n",
       "    <tr>\n",
       "      <th>2</th>\n",
       "      <td>28977</td>\n",
       "      <td>Gintama°</td>\n",
       "    </tr>\n",
       "    <tr>\n",
       "      <th>3</th>\n",
       "      <td>9253</td>\n",
       "      <td>Steins;Gate</td>\n",
       "    </tr>\n",
       "    <tr>\n",
       "      <th>4</th>\n",
       "      <td>9969</td>\n",
       "      <td>Gintama&amp;#039;</td>\n",
       "    </tr>\n",
       "    <tr>\n",
       "      <th>5</th>\n",
       "      <td>32935</td>\n",
       "      <td>Haikyuu!!: Karasuno Koukou VS Shiratorizawa Ga...</td>\n",
       "    </tr>\n",
       "  </tbody>\n",
       "</table>\n",
       "</div>"
      ],
      "text/plain": [
       "   anime_id                                               name\n",
       "0     32281                                     Kimi no Na wa.\n",
       "1      5114                   Fullmetal Alchemist: Brotherhood\n",
       "2     28977                                           Gintama°\n",
       "3      9253                                        Steins;Gate\n",
       "4      9969                                      Gintama&#039;\n",
       "5     32935  Haikyuu!!: Karasuno Koukou VS Shiratorizawa Ga..."
      ]
     },
     "execution_count": 5,
     "metadata": {},
     "output_type": "execute_result"
    }
   ],
   "source": [
    "items_titles = items[[\"anime_id\", \"name\"]]\n",
    "items_titles.head(6)"
   ]
  },
  {
   "cell_type": "code",
   "execution_count": 6,
   "metadata": {},
   "outputs": [
    {
     "data": {
      "text/html": [
       "<div>\n",
       "<style scoped>\n",
       "    .dataframe tbody tr th:only-of-type {\n",
       "        vertical-align: middle;\n",
       "    }\n",
       "\n",
       "    .dataframe tbody tr th {\n",
       "        vertical-align: top;\n",
       "    }\n",
       "\n",
       "    .dataframe thead th {\n",
       "        text-align: right;\n",
       "    }\n",
       "</style>\n",
       "<table border=\"1\" class=\"dataframe\">\n",
       "  <thead>\n",
       "    <tr style=\"text-align: right;\">\n",
       "      <th></th>\n",
       "      <th>user_id</th>\n",
       "      <th>anime_id</th>\n",
       "      <th>rating</th>\n",
       "      <th>name</th>\n",
       "    </tr>\n",
       "  </thead>\n",
       "  <tbody>\n",
       "    <tr>\n",
       "      <th>0</th>\n",
       "      <td>1</td>\n",
       "      <td>20</td>\n",
       "      <td>-1</td>\n",
       "      <td>Naruto</td>\n",
       "    </tr>\n",
       "    <tr>\n",
       "      <th>1</th>\n",
       "      <td>3</td>\n",
       "      <td>20</td>\n",
       "      <td>8</td>\n",
       "      <td>Naruto</td>\n",
       "    </tr>\n",
       "    <tr>\n",
       "      <th>2</th>\n",
       "      <td>5</td>\n",
       "      <td>20</td>\n",
       "      <td>6</td>\n",
       "      <td>Naruto</td>\n",
       "    </tr>\n",
       "    <tr>\n",
       "      <th>3</th>\n",
       "      <td>6</td>\n",
       "      <td>20</td>\n",
       "      <td>-1</td>\n",
       "      <td>Naruto</td>\n",
       "    </tr>\n",
       "    <tr>\n",
       "      <th>4</th>\n",
       "      <td>10</td>\n",
       "      <td>20</td>\n",
       "      <td>-1</td>\n",
       "      <td>Naruto</td>\n",
       "    </tr>\n",
       "    <tr>\n",
       "      <th>5</th>\n",
       "      <td>21</td>\n",
       "      <td>20</td>\n",
       "      <td>8</td>\n",
       "      <td>Naruto</td>\n",
       "    </tr>\n",
       "  </tbody>\n",
       "</table>\n",
       "</div>"
      ],
      "text/plain": [
       "   user_id  anime_id  rating    name\n",
       "0        1        20      -1  Naruto\n",
       "1        3        20       8  Naruto\n",
       "2        5        20       6  Naruto\n",
       "3        6        20      -1  Naruto\n",
       "4       10        20      -1  Naruto\n",
       "5       21        20       8  Naruto"
      ]
     },
     "execution_count": 6,
     "metadata": {},
     "output_type": "execute_result"
    }
   ],
   "source": [
    "items_ratings = ratings.merge(items_titles, on=\"anime_id\")\n",
    "items_ratings.head(6)"
   ]
  },
  {
   "cell_type": "code",
   "execution_count": 7,
   "metadata": {},
   "outputs": [],
   "source": [
    "items_ratings.rename(columns={'anime_id': 'item_id'}, inplace = True)"
   ]
  },
  {
   "cell_type": "code",
   "execution_count": 8,
   "metadata": {},
   "outputs": [
    {
     "data": {
      "text/html": [
       "<div>\n",
       "<style scoped>\n",
       "    .dataframe tbody tr th:only-of-type {\n",
       "        vertical-align: middle;\n",
       "    }\n",
       "\n",
       "    .dataframe tbody tr th {\n",
       "        vertical-align: top;\n",
       "    }\n",
       "\n",
       "    .dataframe thead th {\n",
       "        text-align: right;\n",
       "    }\n",
       "</style>\n",
       "<table border=\"1\" class=\"dataframe\">\n",
       "  <thead>\n",
       "    <tr style=\"text-align: right;\">\n",
       "      <th></th>\n",
       "      <th>anime_id</th>\n",
       "      <th>name</th>\n",
       "    </tr>\n",
       "  </thead>\n",
       "  <tbody>\n",
       "    <tr>\n",
       "      <th>841</th>\n",
       "      <td>20</td>\n",
       "      <td>Naruto</td>\n",
       "    </tr>\n",
       "  </tbody>\n",
       "</table>\n",
       "</div>"
      ],
      "text/plain": [
       "     anime_id    name\n",
       "841        20  Naruto"
      ]
     },
     "execution_count": 8,
     "metadata": {},
     "output_type": "execute_result"
    }
   ],
   "source": [
    "items_titles[items_titles[\"name\"] == \"Naruto\"]"
   ]
  },
  {
   "cell_type": "code",
   "execution_count": 9,
   "metadata": {},
   "outputs": [
    {
     "name": "stdout",
     "output_type": "stream",
     "text": [
      "<class 'pandas.core.frame.DataFrame'>\n",
      "RangeIndex: 7813727 entries, 0 to 7813726\n",
      "Data columns (total 4 columns):\n",
      " #   Column   Dtype \n",
      "---  ------   ----- \n",
      " 0   user_id  int64 \n",
      " 1   item_id  int64 \n",
      " 2   rating   int64 \n",
      " 3   name     object\n",
      "dtypes: int64(3), object(1)\n",
      "memory usage: 238.5+ MB\n"
     ]
    }
   ],
   "source": [
    "items_ratings.info()"
   ]
  },
  {
   "cell_type": "code",
   "execution_count": 10,
   "metadata": {},
   "outputs": [
    {
     "data": {
      "text/plain": [
       "user_id    False\n",
       "item_id    False\n",
       "rating     False\n",
       "name       False\n",
       "dtype: bool"
      ]
     },
     "execution_count": 10,
     "metadata": {},
     "output_type": "execute_result"
    }
   ],
   "source": [
    "items_ratings.isna().any()"
   ]
  },
  {
   "cell_type": "code",
   "execution_count": 11,
   "metadata": {},
   "outputs": [],
   "source": [
    "items_ratings.loc[items_ratings['rating'] == -1, 'rating'] = 0"
   ]
  },
  {
   "cell_type": "code",
   "execution_count": 12,
   "metadata": {},
   "outputs": [],
   "source": [
    "items_ratings = items_ratings.sample(10000)"
   ]
  },
  {
   "attachments": {},
   "cell_type": "markdown",
   "metadata": {},
   "source": [
    "## Entrenamiento del modelo."
   ]
  },
  {
   "cell_type": "code",
   "execution_count": 13,
   "metadata": {},
   "outputs": [],
   "source": [
    "encoder = LabelEncoder()"
   ]
  },
  {
   "cell_type": "code",
   "execution_count": 14,
   "metadata": {},
   "outputs": [],
   "source": [
    "encoder.fit(items_ratings['user_id'])\n",
    "items_ratings.loc[:, 'user_id'] = sorted(encoder.transform(items_ratings['user_id']))\n",
    "\n",
    "encoder.fit(items_ratings['item_id'])\n",
    "items_ratings.loc[:, 'item_id'] = encoder.transform(items_ratings['item_id'])"
   ]
  },
  {
   "cell_type": "code",
   "execution_count": 15,
   "metadata": {},
   "outputs": [],
   "source": [
    "df_train, df_val = train_test_split(items_ratings, test_size=0.2, random_state=42)"
   ]
  },
  {
   "cell_type": "code",
   "execution_count": 16,
   "metadata": {},
   "outputs": [],
   "source": [
    "n_users = len(items_ratings.user_id.unique())\n",
    "n_items = len(items_ratings.item_id.unique())\n",
    "\n",
    "train_matrix = np.zeros((n_users, n_items))\n",
    "\n",
    "for row in df_train.itertuples():\n",
    "    train_matrix[row[1]-1, row[2]-1] = row[3]"
   ]
  },
  {
   "cell_type": "code",
   "execution_count": 17,
   "metadata": {},
   "outputs": [],
   "source": [
    "input_users = tf.keras.layers.Input(shape=[1])\n",
    "embedding_users = tf.keras.layers.Embedding(n_users, 100)(input_users)\n",
    "flatten_users = tf.keras.layers.Flatten()(embedding_users)\n",
    "\n",
    "input_items = tf.keras.layers.Input(shape=[1])\n",
    "embedding_items = tf.keras.layers.Embedding(n_items, 100)(input_items)\n",
    "flatten_items = tf.keras.layers.Flatten()(embedding_items)"
   ]
  },
  {
   "cell_type": "code",
   "execution_count": 18,
   "metadata": {},
   "outputs": [],
   "source": [
    "concat = tf.keras.layers.Concatenate()([flatten_users, flatten_items])\n",
    "\n",
    "dense1 = tf.keras.layers.Dense(128, activation='relu')(concat)\n",
    "dropout1 = tf.keras.layers.Dropout(0.2)(dense1)\n",
    "\n",
    "dense2 = tf.keras.layers.Dense(64, activation='relu')(dropout1)\n",
    "dropout2 = tf.keras.layers.Dropout(0.2)(dense2)"
   ]
  },
  {
   "cell_type": "code",
   "execution_count": 19,
   "metadata": {},
   "outputs": [],
   "source": [
    "output = tf.keras.layers.Dense(1)(dropout2)\n",
    "\n",
    "model = tf.keras.Model(inputs=[input_users, input_items], outputs=output)\n",
    "model.compile(loss='mse', optimizer='adam')"
   ]
  },
  {
   "cell_type": "code",
   "execution_count": 20,
   "metadata": {},
   "outputs": [
    {
     "name": "stdout",
     "output_type": "stream",
     "text": [
      "Epoch 1/10\n",
      "92/92 [==============================] - 2s 16ms/step - loss: 27.3289 - val_loss: 11.9187\n",
      "Epoch 2/10\n",
      "92/92 [==============================] - 1s 15ms/step - loss: 8.4882 - val_loss: 13.5707\n",
      "Epoch 3/10\n",
      "92/92 [==============================] - 1s 13ms/step - loss: 3.9710 - val_loss: 14.6945\n",
      "Epoch 4/10\n",
      "92/92 [==============================] - 1s 13ms/step - loss: 3.0301 - val_loss: 14.6055\n",
      "Epoch 5/10\n",
      "92/92 [==============================] - 1s 13ms/step - loss: 2.3427 - val_loss: 15.0143\n",
      "Epoch 6/10\n",
      "92/92 [==============================] - 1s 13ms/step - loss: 2.0533 - val_loss: 14.9687\n",
      "Epoch 7/10\n",
      "92/92 [==============================] - 1s 13ms/step - loss: 1.8042 - val_loss: 15.1605\n",
      "Epoch 8/10\n",
      "92/92 [==============================] - 1s 14ms/step - loss: 1.6377 - val_loss: 15.1962\n",
      "Epoch 9/10\n",
      "92/92 [==============================] - 1s 16ms/step - loss: 1.4276 - val_loss: 15.2204\n",
      "Epoch 10/10\n",
      "92/92 [==============================] - 1s 15ms/step - loss: 1.3109 - val_loss: 15.1837\n"
     ]
    },
    {
     "data": {
      "text/plain": [
       "<keras.callbacks.History at 0x27b0130d480>"
      ]
     },
     "execution_count": 20,
     "metadata": {},
     "output_type": "execute_result"
    }
   ],
   "source": [
    "model.fit([df_train.user_id, df_train.item_id], df_train.rating, epochs=10, verbose=1, validation_split=0.2, batch_size=70)"
   ]
  },
  {
   "cell_type": "code",
   "execution_count": 21,
   "metadata": {},
   "outputs": [
    {
     "name": "stdout",
     "output_type": "stream",
     "text": [
      "Epoch 1/10\n",
      "92/92 [==============================] - 1s 15ms/step - loss: 1.2338 - val_loss: 15.3184\n",
      "Epoch 2/10\n",
      "92/92 [==============================] - 1s 15ms/step - loss: 1.1215 - val_loss: 15.3355\n",
      "Epoch 3/10\n",
      "92/92 [==============================] - 1s 14ms/step - loss: 1.1188 - val_loss: 15.3535\n",
      "Epoch 4/10\n",
      "92/92 [==============================] - 1s 14ms/step - loss: 1.0386 - val_loss: 15.2906\n",
      "Epoch 5/10\n",
      "92/92 [==============================] - 1s 14ms/step - loss: 0.9978 - val_loss: 15.3258\n",
      "Epoch 6/10\n",
      "92/92 [==============================] - 1s 15ms/step - loss: 0.9651 - val_loss: 15.4075\n",
      "Epoch 7/10\n",
      "92/92 [==============================] - 1s 15ms/step - loss: 0.9441 - val_loss: 15.3826\n",
      "Epoch 8/10\n",
      "92/92 [==============================] - 1s 14ms/step - loss: 0.8904 - val_loss: 15.2768\n",
      "Epoch 9/10\n",
      "92/92 [==============================] - 1s 14ms/step - loss: 0.8615 - val_loss: 15.2868\n",
      "Epoch 10/10\n",
      "92/92 [==============================] - 1s 15ms/step - loss: 0.8260 - val_loss: 15.8033\n"
     ]
    },
    {
     "data": {
      "text/plain": [
       "<keras.callbacks.History at 0x27b01627580>"
      ]
     },
     "execution_count": 21,
     "metadata": {},
     "output_type": "execute_result"
    }
   ],
   "source": [
    "model.fit([df_train.user_id, df_train.item_id], df_train.rating, epochs=10, verbose=1, validation_split=0.2, batch_size=70)"
   ]
  },
  {
   "cell_type": "code",
   "execution_count": 22,
   "metadata": {},
   "outputs": [
    {
     "name": "stdout",
     "output_type": "stream",
     "text": [
      "Epoch 1/10\n",
      "92/92 [==============================] - 1s 15ms/step - loss: 0.8215 - val_loss: 15.2394\n",
      "Epoch 2/10\n",
      "92/92 [==============================] - 1s 14ms/step - loss: 0.7782 - val_loss: 15.0573\n",
      "Epoch 3/10\n",
      "92/92 [==============================] - 1s 15ms/step - loss: 0.7431 - val_loss: 15.4782\n",
      "Epoch 4/10\n",
      "92/92 [==============================] - 1s 14ms/step - loss: 0.7185 - val_loss: 15.2533\n",
      "Epoch 5/10\n",
      "92/92 [==============================] - 2s 17ms/step - loss: 0.7315 - val_loss: 15.1337\n",
      "Epoch 6/10\n",
      "92/92 [==============================] - 1s 16ms/step - loss: 0.7345 - val_loss: 14.9001\n",
      "Epoch 7/10\n",
      "92/92 [==============================] - 1s 14ms/step - loss: 0.7091 - val_loss: 15.2245\n",
      "Epoch 8/10\n",
      "92/92 [==============================] - 1s 13ms/step - loss: 0.7093 - val_loss: 14.7072\n",
      "Epoch 9/10\n",
      "92/92 [==============================] - 1s 14ms/step - loss: 0.6783 - val_loss: 14.9286\n",
      "Epoch 10/10\n",
      "92/92 [==============================] - 1s 15ms/step - loss: 0.6649 - val_loss: 14.9774\n"
     ]
    },
    {
     "data": {
      "text/plain": [
       "<keras.callbacks.History at 0x27b016858a0>"
      ]
     },
     "execution_count": 22,
     "metadata": {},
     "output_type": "execute_result"
    }
   ],
   "source": [
    "model.fit([df_train.user_id, df_train.item_id], df_train.rating, epochs=10, verbose=1, validation_split=0.2, batch_size=70)"
   ]
  },
  {
   "cell_type": "code",
   "execution_count": 23,
   "metadata": {},
   "outputs": [
    {
     "name": "stdout",
     "output_type": "stream",
     "text": [
      "63/63 [==============================] - 0s 1ms/step - loss: 14.1802\n",
      "Test loss: 14.180154800415039\n"
     ]
    }
   ],
   "source": [
    "test_loss = model.evaluate([df_val.user_id, df_val.item_id], df_val.rating)\n",
    "print('Test loss:', test_loss)"
   ]
  },
  {
   "cell_type": "code",
   "execution_count": 24,
   "metadata": {},
   "outputs": [
    {
     "name": "stdout",
     "output_type": "stream",
     "text": [
      "63/63 [==============================] - 0s 1ms/step\n"
     ]
    }
   ],
   "source": [
    "predictions = model.predict([df_val.user_id, df_val.item_id])"
   ]
  },
  {
   "cell_type": "code",
   "execution_count": 25,
   "metadata": {},
   "outputs": [
    {
     "data": {
      "text/plain": [
       "array([5.7409606], dtype=float32)"
      ]
     },
     "execution_count": 25,
     "metadata": {},
     "output_type": "execute_result"
    }
   ],
   "source": [
    "predictions[0]"
   ]
  },
  {
   "cell_type": "code",
   "execution_count": 26,
   "metadata": {},
   "outputs": [
    {
     "data": {
      "text/plain": [
       "6965479     7\n",
       "5916873     7\n",
       "6190729     8\n",
       "1371699    10\n",
       "7488997     8\n",
       "           ..\n",
       "748240      8\n",
       "1754798    10\n",
       "6314206     7\n",
       "6519316    10\n",
       "5189450     7\n",
       "Name: rating, Length: 2000, dtype: int64"
      ]
     },
     "execution_count": 26,
     "metadata": {},
     "output_type": "execute_result"
    }
   ],
   "source": [
    "df_val['rating']"
   ]
  },
  {
   "cell_type": "code",
   "execution_count": 27,
   "metadata": {},
   "outputs": [
    {
     "name": "stdout",
     "output_type": "stream",
     "text": [
      "1/1 [==============================] - 0s 84ms/step\n",
      "Rating prediction: 2.6572433\n"
     ]
    }
   ],
   "source": [
    "user_id = 100\n",
    "item_id = 200\n",
    "\n",
    "rating_pred = model.predict([np.array([user_id]), np.array([item_id])])\n",
    "print('Rating prediction:', rating_pred[0][0])"
   ]
  },
  {
   "cell_type": "code",
   "execution_count": 33,
   "metadata": {},
   "outputs": [],
   "source": [
    "def recommend_items(user_id, model, n=2):\n",
    "    # Obtener las películas que ya ha visto el usuario\n",
    "    seen_movies = items_ratings[items_ratings['user_id'] == user_id]['item_id'].tolist()\n",
    "    \n",
    "    # Obtener las películas que el usuario aún no ha visto\n",
    "    item_ids = list(set(items_ratings['item_id']) - set(seen_movies))\n",
    "    \n",
    "    # Predecir las puntuaciones para las películas no vistas\n",
    "    ratings_pred = model.predict([np.array([user_id]*len(item_ids)), np.array(item_ids)])\n",
    "    ratings_pred = np.array([rating[0] for rating in ratings_pred])\n",
    "    \n",
    "    # Obtener las mejores n películas recomendadas\n",
    "    top_item_ids = (-ratings_pred).argsort()[:n]\n",
    "    top_item_ids = [item_ids[i] for i in top_item_ids]\n",
    "    top_item_ids += [0]*(n - len(top_item_ids))\n",
    "    top_ratings_pred = ratings_pred[top_item_ids]\n",
    "\n",
    "    items_pred = pd.DataFrame(columns=['anime_id', 'name', 'genre', 'type', 'episodes', 'rating', 'members'])\n",
    "\n",
    "    i = 0\n",
    "    for ids in top_item_ids:\n",
    "        items_pred.loc[i] = items.iloc[ids]\n",
    "        i += 1\n",
    "\n",
    "    items_pred['predicted_rating'] = top_ratings_pred\n",
    "    \n",
    "    return items_pred"
   ]
  },
  {
   "cell_type": "code",
   "execution_count": 34,
   "metadata": {},
   "outputs": [
    {
     "name": "stdout",
     "output_type": "stream",
     "text": [
      "88/88 [==============================] - 0s 1ms/step\n"
     ]
    },
    {
     "data": {
      "text/html": [
       "<div>\n",
       "<style scoped>\n",
       "    .dataframe tbody tr th:only-of-type {\n",
       "        vertical-align: middle;\n",
       "    }\n",
       "\n",
       "    .dataframe tbody tr th {\n",
       "        vertical-align: top;\n",
       "    }\n",
       "\n",
       "    .dataframe thead th {\n",
       "        text-align: right;\n",
       "    }\n",
       "</style>\n",
       "<table border=\"1\" class=\"dataframe\">\n",
       "  <thead>\n",
       "    <tr style=\"text-align: right;\">\n",
       "      <th></th>\n",
       "      <th>anime_id</th>\n",
       "      <th>name</th>\n",
       "      <th>genre</th>\n",
       "      <th>type</th>\n",
       "      <th>episodes</th>\n",
       "      <th>rating</th>\n",
       "      <th>members</th>\n",
       "      <th>predicted_rating</th>\n",
       "    </tr>\n",
       "  </thead>\n",
       "  <tbody>\n",
       "    <tr>\n",
       "      <th>0</th>\n",
       "      <td>4189</td>\n",
       "      <td>Winter Sonata</td>\n",
       "      <td>Drama, Romance</td>\n",
       "      <td>TV</td>\n",
       "      <td>26</td>\n",
       "      <td>7.51</td>\n",
       "      <td>13582</td>\n",
       "      <td>6.404348</td>\n",
       "    </tr>\n",
       "    <tr>\n",
       "      <th>1</th>\n",
       "      <td>1145</td>\n",
       "      <td>Kaze no Youjinbou</td>\n",
       "      <td>Action, Drama, Mystery, Shounen</td>\n",
       "      <td>TV</td>\n",
       "      <td>25</td>\n",
       "      <td>7.27</td>\n",
       "      <td>5646</td>\n",
       "      <td>7.870547</td>\n",
       "    </tr>\n",
       "    <tr>\n",
       "      <th>2</th>\n",
       "      <td>76</td>\n",
       "      <td>Mahou Shoujo Lyrical Nanoha</td>\n",
       "      <td>Action, Comedy, Drama, Magic, Super Power</td>\n",
       "      <td>TV</td>\n",
       "      <td>13</td>\n",
       "      <td>7.52</td>\n",
       "      <td>62582</td>\n",
       "      <td>7.503816</td>\n",
       "    </tr>\n",
       "  </tbody>\n",
       "</table>\n",
       "</div>"
      ],
      "text/plain": [
       "  anime_id                         name   \n",
       "0     4189                Winter Sonata  \\\n",
       "1     1145            Kaze no Youjinbou   \n",
       "2       76  Mahou Shoujo Lyrical Nanoha   \n",
       "\n",
       "                                       genre type episodes rating members   \n",
       "0                             Drama, Romance   TV       26   7.51   13582  \\\n",
       "1            Action, Drama, Mystery, Shounen   TV       25   7.27    5646   \n",
       "2  Action, Comedy, Drama, Magic, Super Power   TV       13   7.52   62582   \n",
       "\n",
       "   predicted_rating  \n",
       "0          6.404348  \n",
       "1          7.870547  \n",
       "2          7.503816  "
      ]
     },
     "execution_count": 34,
     "metadata": {},
     "output_type": "execute_result"
    }
   ],
   "source": [
    "user_id = 1\n",
    "recommendations = recommend_items(user_id, model, n=3)\n",
    "recommendations"
   ]
  }
 ],
 "metadata": {
  "kernelspec": {
   "display_name": "venv",
   "language": "python",
   "name": "python3"
  },
  "language_info": {
   "codemirror_mode": {
    "name": "ipython",
    "version": 3
   },
   "file_extension": ".py",
   "mimetype": "text/x-python",
   "name": "python",
   "nbconvert_exporter": "python",
   "pygments_lexer": "ipython3",
   "version": "3.10.9"
  },
  "orig_nbformat": 4
 },
 "nbformat": 4,
 "nbformat_minor": 2
}
